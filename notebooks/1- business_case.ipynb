{
 "cells": [
  {
   "cell_type": "markdown",
   "metadata": {},
   "source": [
    "# Problem Statement"
   ]
  },
  {
   "cell_type": "markdown",
   "metadata": {},
   "source": [
    "The goal of this project is to create a Machine Learning model that can predict how long it will take for food orders to be delivered when customers use services like Lieferando.\n",
    "\n",
    "This model will look at past delivery times for similar distances to make sure the predictions are accurate. This is important because knowing the correct delivery time makes customers happier and improves their experience.\n",
    "\n",
    "Getting the delivery time right is very important for food delivery companies. If the delivery time is underestimated, it can lead to unhappy customers, which is worse than overestimating it. Deliveries that are too early or too late are much more frustrating than those that are just a little early or late.\n",
    "\n",
    "In this project, I will build a model to predict the estimated time for a delivery, which is the time between when the order was created and when it was actually delivered.\n",
    "\n",
    "I will compare different machine learning models to find the best one, and I will present the results and errors from each model to show how accurate they are."
   ]
  },
  {
   "cell_type": "markdown",
   "metadata": {},
   "source": []
  }
 ],
 "metadata": {
  "kernelspec": {
   "display_name": "Python 3.8.19 ('venv')",
   "language": "python",
   "name": "python3"
  },
  "language_info": {
   "name": "python",
   "version": "3.8.19"
  },
  "orig_nbformat": 4,
  "vscode": {
   "interpreter": {
    "hash": "1707e2a11e748d0db8d27b6ed4dcf0f142b7ddd87c451bd8f4efb955e3e3d619"
   }
  }
 },
 "nbformat": 4,
 "nbformat_minor": 2
}
