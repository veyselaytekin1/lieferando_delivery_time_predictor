{
 "cells": [
  {
   "cell_type": "markdown",
   "metadata": {},
   "source": [
    "# Acquire Train and Test Data"
   ]
  },
  {
   "cell_type": "markdown",
   "metadata": {},
   "source": [
    "Data has been gathered through the UberEats Database and it has about 45 thousand recent deliveries from different cities."
   ]
  },
  {
   "cell_type": "markdown",
   "metadata": {},
   "source": [
    "## Libraries"
   ]
  },
  {
   "cell_type": "code",
   "execution_count": 1,
   "metadata": {},
   "outputs": [],
   "source": [
    "# Warnings\n",
    "import warnings\n",
    "warnings.filterwarnings('ignore')\n",
    "\n",
    "# Libraries\n",
    "import numpy as np\n",
    "import pandas as pd\n",
    "import matplotlib.pyplot as plt\n",
    "import seaborn as sns\n",
    "\n",
    "# Settings\n",
    "pd.set_option('display.max_columns', None)\n",
    "sns.set_style('whitegrid')\n",
    "%matplotlib inline"
   ]
  },
  {
   "cell_type": "markdown",
   "metadata": {},
   "source": [
    "## Loading data"
   ]
  },
  {
   "cell_type": "code",
   "execution_count": 2,
   "metadata": {},
   "outputs": [
    {
     "data": {
      "text/html": [
       "<div>\n",
       "<style scoped>\n",
       "    .dataframe tbody tr th:only-of-type {\n",
       "        vertical-align: middle;\n",
       "    }\n",
       "\n",
       "    .dataframe tbody tr th {\n",
       "        vertical-align: top;\n",
       "    }\n",
       "\n",
       "    .dataframe thead th {\n",
       "        text-align: right;\n",
       "    }\n",
       "</style>\n",
       "<table border=\"1\" class=\"dataframe\">\n",
       "  <thead>\n",
       "    <tr style=\"text-align: right;\">\n",
       "      <th></th>\n",
       "      <th>ID</th>\n",
       "      <th>Delivery_person_ID</th>\n",
       "      <th>Delivery_person_Age</th>\n",
       "      <th>Delivery_person_Ratings</th>\n",
       "      <th>Restaurant_latitude</th>\n",
       "      <th>Restaurant_longitude</th>\n",
       "      <th>Delivery_location_latitude</th>\n",
       "      <th>Delivery_location_longitude</th>\n",
       "      <th>Order_Date</th>\n",
       "      <th>Time_Orderd</th>\n",
       "      <th>Time_Order_picked</th>\n",
       "      <th>Weatherconditions</th>\n",
       "      <th>Road_traffic_density</th>\n",
       "      <th>Vehicle_condition</th>\n",
       "      <th>Type_of_order</th>\n",
       "      <th>Type_of_vehicle</th>\n",
       "      <th>multiple_deliveries</th>\n",
       "      <th>Festival</th>\n",
       "      <th>City</th>\n",
       "      <th>Time_taken(min)</th>\n",
       "    </tr>\n",
       "  </thead>\n",
       "  <tbody>\n",
       "    <tr>\n",
       "      <th>0</th>\n",
       "      <td>0x4607</td>\n",
       "      <td>INDORES13DEL02</td>\n",
       "      <td>37</td>\n",
       "      <td>4.9</td>\n",
       "      <td>22.745049</td>\n",
       "      <td>75.892471</td>\n",
       "      <td>22.765049</td>\n",
       "      <td>75.912471</td>\n",
       "      <td>19-03-2022</td>\n",
       "      <td>11:30:00</td>\n",
       "      <td>11:45:00</td>\n",
       "      <td>conditions Sunny</td>\n",
       "      <td>High</td>\n",
       "      <td>2</td>\n",
       "      <td>Snack</td>\n",
       "      <td>motorcycle</td>\n",
       "      <td>0</td>\n",
       "      <td>No</td>\n",
       "      <td>Urban</td>\n",
       "      <td>(min) 24</td>\n",
       "    </tr>\n",
       "    <tr>\n",
       "      <th>1</th>\n",
       "      <td>0xb379</td>\n",
       "      <td>BANGRES18DEL02</td>\n",
       "      <td>34</td>\n",
       "      <td>4.5</td>\n",
       "      <td>12.913041</td>\n",
       "      <td>77.683237</td>\n",
       "      <td>13.043041</td>\n",
       "      <td>77.813237</td>\n",
       "      <td>25-03-2022</td>\n",
       "      <td>19:45:00</td>\n",
       "      <td>19:50:00</td>\n",
       "      <td>conditions Stormy</td>\n",
       "      <td>Jam</td>\n",
       "      <td>2</td>\n",
       "      <td>Snack</td>\n",
       "      <td>scooter</td>\n",
       "      <td>1</td>\n",
       "      <td>No</td>\n",
       "      <td>Metropolitian</td>\n",
       "      <td>(min) 33</td>\n",
       "    </tr>\n",
       "    <tr>\n",
       "      <th>2</th>\n",
       "      <td>0x5d6d</td>\n",
       "      <td>BANGRES19DEL01</td>\n",
       "      <td>23</td>\n",
       "      <td>4.4</td>\n",
       "      <td>12.914264</td>\n",
       "      <td>77.678400</td>\n",
       "      <td>12.924264</td>\n",
       "      <td>77.688400</td>\n",
       "      <td>19-03-2022</td>\n",
       "      <td>08:30:00</td>\n",
       "      <td>08:45:00</td>\n",
       "      <td>conditions Sandstorms</td>\n",
       "      <td>Low</td>\n",
       "      <td>0</td>\n",
       "      <td>Drinks</td>\n",
       "      <td>motorcycle</td>\n",
       "      <td>1</td>\n",
       "      <td>No</td>\n",
       "      <td>Urban</td>\n",
       "      <td>(min) 26</td>\n",
       "    </tr>\n",
       "    <tr>\n",
       "      <th>3</th>\n",
       "      <td>0x7a6a</td>\n",
       "      <td>COIMBRES13DEL02</td>\n",
       "      <td>38</td>\n",
       "      <td>4.7</td>\n",
       "      <td>11.003669</td>\n",
       "      <td>76.976494</td>\n",
       "      <td>11.053669</td>\n",
       "      <td>77.026494</td>\n",
       "      <td>05-04-2022</td>\n",
       "      <td>18:00:00</td>\n",
       "      <td>18:10:00</td>\n",
       "      <td>conditions Sunny</td>\n",
       "      <td>Medium</td>\n",
       "      <td>0</td>\n",
       "      <td>Buffet</td>\n",
       "      <td>motorcycle</td>\n",
       "      <td>1</td>\n",
       "      <td>No</td>\n",
       "      <td>Metropolitian</td>\n",
       "      <td>(min) 21</td>\n",
       "    </tr>\n",
       "    <tr>\n",
       "      <th>4</th>\n",
       "      <td>0x70a2</td>\n",
       "      <td>CHENRES12DEL01</td>\n",
       "      <td>32</td>\n",
       "      <td>4.6</td>\n",
       "      <td>12.972793</td>\n",
       "      <td>80.249982</td>\n",
       "      <td>13.012793</td>\n",
       "      <td>80.289982</td>\n",
       "      <td>26-03-2022</td>\n",
       "      <td>13:30:00</td>\n",
       "      <td>13:45:00</td>\n",
       "      <td>conditions Cloudy</td>\n",
       "      <td>High</td>\n",
       "      <td>1</td>\n",
       "      <td>Snack</td>\n",
       "      <td>scooter</td>\n",
       "      <td>1</td>\n",
       "      <td>No</td>\n",
       "      <td>Metropolitian</td>\n",
       "      <td>(min) 30</td>\n",
       "    </tr>\n",
       "    <tr>\n",
       "      <th>...</th>\n",
       "      <td>...</td>\n",
       "      <td>...</td>\n",
       "      <td>...</td>\n",
       "      <td>...</td>\n",
       "      <td>...</td>\n",
       "      <td>...</td>\n",
       "      <td>...</td>\n",
       "      <td>...</td>\n",
       "      <td>...</td>\n",
       "      <td>...</td>\n",
       "      <td>...</td>\n",
       "      <td>...</td>\n",
       "      <td>...</td>\n",
       "      <td>...</td>\n",
       "      <td>...</td>\n",
       "      <td>...</td>\n",
       "      <td>...</td>\n",
       "      <td>...</td>\n",
       "      <td>...</td>\n",
       "      <td>...</td>\n",
       "    </tr>\n",
       "    <tr>\n",
       "      <th>45588</th>\n",
       "      <td>0x7c09</td>\n",
       "      <td>JAPRES04DEL01</td>\n",
       "      <td>30</td>\n",
       "      <td>4.8</td>\n",
       "      <td>26.902328</td>\n",
       "      <td>75.794257</td>\n",
       "      <td>26.912328</td>\n",
       "      <td>75.804257</td>\n",
       "      <td>24-03-2022</td>\n",
       "      <td>11:35:00</td>\n",
       "      <td>11:45:00</td>\n",
       "      <td>conditions Windy</td>\n",
       "      <td>High</td>\n",
       "      <td>1</td>\n",
       "      <td>Meal</td>\n",
       "      <td>motorcycle</td>\n",
       "      <td>0</td>\n",
       "      <td>No</td>\n",
       "      <td>Metropolitian</td>\n",
       "      <td>(min) 32</td>\n",
       "    </tr>\n",
       "    <tr>\n",
       "      <th>45589</th>\n",
       "      <td>0xd641</td>\n",
       "      <td>AGRRES16DEL01</td>\n",
       "      <td>21</td>\n",
       "      <td>4.6</td>\n",
       "      <td>0.000000</td>\n",
       "      <td>0.000000</td>\n",
       "      <td>0.070000</td>\n",
       "      <td>0.070000</td>\n",
       "      <td>16-02-2022</td>\n",
       "      <td>19:55:00</td>\n",
       "      <td>20:10:00</td>\n",
       "      <td>conditions Windy</td>\n",
       "      <td>Jam</td>\n",
       "      <td>0</td>\n",
       "      <td>Buffet</td>\n",
       "      <td>motorcycle</td>\n",
       "      <td>1</td>\n",
       "      <td>No</td>\n",
       "      <td>Metropolitian</td>\n",
       "      <td>(min) 36</td>\n",
       "    </tr>\n",
       "    <tr>\n",
       "      <th>45590</th>\n",
       "      <td>0x4f8d</td>\n",
       "      <td>CHENRES08DEL03</td>\n",
       "      <td>30</td>\n",
       "      <td>4.9</td>\n",
       "      <td>13.022394</td>\n",
       "      <td>80.242439</td>\n",
       "      <td>13.052394</td>\n",
       "      <td>80.272439</td>\n",
       "      <td>11-03-2022</td>\n",
       "      <td>23:50:00</td>\n",
       "      <td>00:05:00</td>\n",
       "      <td>conditions Cloudy</td>\n",
       "      <td>Low</td>\n",
       "      <td>1</td>\n",
       "      <td>Drinks</td>\n",
       "      <td>scooter</td>\n",
       "      <td>0</td>\n",
       "      <td>No</td>\n",
       "      <td>Metropolitian</td>\n",
       "      <td>(min) 16</td>\n",
       "    </tr>\n",
       "    <tr>\n",
       "      <th>45591</th>\n",
       "      <td>0x5eee</td>\n",
       "      <td>COIMBRES11DEL01</td>\n",
       "      <td>20</td>\n",
       "      <td>4.7</td>\n",
       "      <td>11.001753</td>\n",
       "      <td>76.986241</td>\n",
       "      <td>11.041753</td>\n",
       "      <td>77.026241</td>\n",
       "      <td>07-03-2022</td>\n",
       "      <td>13:35:00</td>\n",
       "      <td>13:40:00</td>\n",
       "      <td>conditions Cloudy</td>\n",
       "      <td>High</td>\n",
       "      <td>0</td>\n",
       "      <td>Snack</td>\n",
       "      <td>motorcycle</td>\n",
       "      <td>1</td>\n",
       "      <td>No</td>\n",
       "      <td>Metropolitian</td>\n",
       "      <td>(min) 26</td>\n",
       "    </tr>\n",
       "    <tr>\n",
       "      <th>45592</th>\n",
       "      <td>0x5fb2</td>\n",
       "      <td>RANCHIRES09DEL02</td>\n",
       "      <td>23</td>\n",
       "      <td>4.9</td>\n",
       "      <td>23.351058</td>\n",
       "      <td>85.325731</td>\n",
       "      <td>23.431058</td>\n",
       "      <td>85.405731</td>\n",
       "      <td>02-03-2022</td>\n",
       "      <td>17:10:00</td>\n",
       "      <td>17:15:00</td>\n",
       "      <td>conditions Fog</td>\n",
       "      <td>Medium</td>\n",
       "      <td>2</td>\n",
       "      <td>Snack</td>\n",
       "      <td>scooter</td>\n",
       "      <td>1</td>\n",
       "      <td>No</td>\n",
       "      <td>Metropolitian</td>\n",
       "      <td>(min) 36</td>\n",
       "    </tr>\n",
       "  </tbody>\n",
       "</table>\n",
       "<p>45593 rows × 20 columns</p>\n",
       "</div>"
      ],
      "text/plain": [
       "            ID Delivery_person_ID Delivery_person_Age Delivery_person_Ratings  \\\n",
       "0      0x4607     INDORES13DEL02                   37                     4.9   \n",
       "1      0xb379     BANGRES18DEL02                   34                     4.5   \n",
       "2      0x5d6d     BANGRES19DEL01                   23                     4.4   \n",
       "3      0x7a6a    COIMBRES13DEL02                   38                     4.7   \n",
       "4      0x70a2     CHENRES12DEL01                   32                     4.6   \n",
       "...        ...                ...                 ...                     ...   \n",
       "45588  0x7c09      JAPRES04DEL01                   30                     4.8   \n",
       "45589  0xd641      AGRRES16DEL01                   21                     4.6   \n",
       "45590  0x4f8d     CHENRES08DEL03                   30                     4.9   \n",
       "45591  0x5eee    COIMBRES11DEL01                   20                     4.7   \n",
       "45592  0x5fb2   RANCHIRES09DEL02                   23                     4.9   \n",
       "\n",
       "       Restaurant_latitude  Restaurant_longitude  Delivery_location_latitude  \\\n",
       "0                22.745049             75.892471                   22.765049   \n",
       "1                12.913041             77.683237                   13.043041   \n",
       "2                12.914264             77.678400                   12.924264   \n",
       "3                11.003669             76.976494                   11.053669   \n",
       "4                12.972793             80.249982                   13.012793   \n",
       "...                    ...                   ...                         ...   \n",
       "45588            26.902328             75.794257                   26.912328   \n",
       "45589             0.000000              0.000000                    0.070000   \n",
       "45590            13.022394             80.242439                   13.052394   \n",
       "45591            11.001753             76.986241                   11.041753   \n",
       "45592            23.351058             85.325731                   23.431058   \n",
       "\n",
       "       Delivery_location_longitude  Order_Date Time_Orderd Time_Order_picked  \\\n",
       "0                        75.912471  19-03-2022    11:30:00          11:45:00   \n",
       "1                        77.813237  25-03-2022    19:45:00          19:50:00   \n",
       "2                        77.688400  19-03-2022    08:30:00          08:45:00   \n",
       "3                        77.026494  05-04-2022    18:00:00          18:10:00   \n",
       "4                        80.289982  26-03-2022    13:30:00          13:45:00   \n",
       "...                            ...         ...         ...               ...   \n",
       "45588                    75.804257  24-03-2022    11:35:00          11:45:00   \n",
       "45589                     0.070000  16-02-2022    19:55:00          20:10:00   \n",
       "45590                    80.272439  11-03-2022    23:50:00          00:05:00   \n",
       "45591                    77.026241  07-03-2022    13:35:00          13:40:00   \n",
       "45592                    85.405731  02-03-2022    17:10:00          17:15:00   \n",
       "\n",
       "           Weatherconditions Road_traffic_density  Vehicle_condition  \\\n",
       "0           conditions Sunny                High                   2   \n",
       "1          conditions Stormy                 Jam                   2   \n",
       "2      conditions Sandstorms                 Low                   0   \n",
       "3           conditions Sunny              Medium                   0   \n",
       "4          conditions Cloudy                High                   1   \n",
       "...                      ...                  ...                ...   \n",
       "45588       conditions Windy                High                   1   \n",
       "45589       conditions Windy                 Jam                   0   \n",
       "45590      conditions Cloudy                 Low                   1   \n",
       "45591      conditions Cloudy                High                   0   \n",
       "45592         conditions Fog              Medium                   2   \n",
       "\n",
       "      Type_of_order Type_of_vehicle multiple_deliveries Festival  \\\n",
       "0            Snack      motorcycle                    0      No    \n",
       "1            Snack         scooter                    1      No    \n",
       "2           Drinks      motorcycle                    1      No    \n",
       "3           Buffet      motorcycle                    1      No    \n",
       "4            Snack         scooter                    1      No    \n",
       "...             ...             ...                 ...      ...   \n",
       "45588         Meal      motorcycle                    0      No    \n",
       "45589       Buffet      motorcycle                    1      No    \n",
       "45590       Drinks         scooter                    0      No    \n",
       "45591        Snack      motorcycle                    1      No    \n",
       "45592        Snack         scooter                    1      No    \n",
       "\n",
       "                 City Time_taken(min)  \n",
       "0              Urban         (min) 24  \n",
       "1      Metropolitian         (min) 33  \n",
       "2              Urban         (min) 26  \n",
       "3      Metropolitian         (min) 21  \n",
       "4      Metropolitian         (min) 30  \n",
       "...               ...             ...  \n",
       "45588  Metropolitian         (min) 32  \n",
       "45589  Metropolitian         (min) 36  \n",
       "45590  Metropolitian         (min) 16  \n",
       "45591  Metropolitian         (min) 26  \n",
       "45592  Metropolitian         (min) 36  \n",
       "\n",
       "[45593 rows x 20 columns]"
      ]
     },
     "execution_count": 2,
     "metadata": {},
     "output_type": "execute_result"
    }
   ],
   "source": [
    "data = pd.read_csv(\"/Users/veyselaytekin/Desktop/byte/Machine_Learning_Projects/lieferando_delivery_time_predictor/data/lieferando-deliveries.csv\")\n",
    "data"
   ]
  },
  {
   "cell_type": "markdown",
   "metadata": {},
   "source": [
    "# Data-dictionary\n",
    "\n",
    "|Column|Description |\n",
    "| :------------ |:---------------:|\n",
    "|**id**|order ID number| \n",
    "|**delivery_person_id**|ID number of the delivery partner|\n",
    "|**delivery_person_age**|Age of the delivery partner|\n",
    "|**delivery_person_ratings**|Ratings of the delivery partner based on past deliveries|\n",
    "|**restaurant_latitude**|The latitude of the restaurant|\n",
    "|**restaurant_longitude**|The longitude of the restaurant|\n",
    "|**delivery_location_latitude**|The latitude of the delivery location|\n",
    "|**delivery_location_longitude**|The longitude of the delivery location|\n",
    "|**order_date**|Date of the order|\n",
    "|**time_orderd**|Time the order was placed|\n",
    "|**time_order_picked**|Time the order was picked|\n",
    "|**weatherconditions**|Weather conditions of the day|\n",
    "|**road_traffic_density**|Density of the traffic|\n",
    "|**vehicle_condition**|Condition of the vehicle|\n",
    "|**type_of_order**|The type of meal ordered by the customer|\n",
    "|**type_of_vehicle**|The type of vehicle delivery partner rides|\n",
    "|**multiple_deliveries**|Amount of deliveries driver picked|\n",
    "|**festival**|If there was a Festival or no.|\n",
    "|**city**|Type of city|\n",
    "|**time_taken(min)**| The time taken by the delivery partner to complete the order|"
   ]
  },
  {
   "cell_type": "markdown",
   "metadata": {},
   "source": [
    "## 1- Check the data"
   ]
  },
  {
   "cell_type": "code",
   "execution_count": 3,
   "metadata": {},
   "outputs": [
    {
     "name": "stdout",
     "output_type": "stream",
     "text": [
      "<class 'pandas.core.frame.DataFrame'>\n",
      "RangeIndex: 45593 entries, 0 to 45592\n",
      "Data columns (total 20 columns):\n",
      " #   Column                       Non-Null Count  Dtype  \n",
      "---  ------                       --------------  -----  \n",
      " 0   ID                           45593 non-null  object \n",
      " 1   Delivery_person_ID           45593 non-null  object \n",
      " 2   Delivery_person_Age          45593 non-null  object \n",
      " 3   Delivery_person_Ratings      45593 non-null  object \n",
      " 4   Restaurant_latitude          45593 non-null  float64\n",
      " 5   Restaurant_longitude         45593 non-null  float64\n",
      " 6   Delivery_location_latitude   45593 non-null  float64\n",
      " 7   Delivery_location_longitude  45593 non-null  float64\n",
      " 8   Order_Date                   45593 non-null  object \n",
      " 9   Time_Orderd                  45593 non-null  object \n",
      " 10  Time_Order_picked            45593 non-null  object \n",
      " 11  Weatherconditions            45593 non-null  object \n",
      " 12  Road_traffic_density         45593 non-null  object \n",
      " 13  Vehicle_condition            45593 non-null  int64  \n",
      " 14  Type_of_order                45593 non-null  object \n",
      " 15  Type_of_vehicle              45593 non-null  object \n",
      " 16  multiple_deliveries          45593 non-null  object \n",
      " 17  Festival                     45593 non-null  object \n",
      " 18  City                         45593 non-null  object \n",
      " 19  Time_taken(min)              45593 non-null  object \n",
      "dtypes: float64(4), int64(1), object(15)\n",
      "memory usage: 7.0+ MB\n"
     ]
    }
   ],
   "source": [
    "data.info()"
   ]
  },
  {
   "cell_type": "code",
   "execution_count": 4,
   "metadata": {},
   "outputs": [
    {
     "data": {
      "text/plain": [
       "Index(['ID', 'Delivery_person_ID', 'Delivery_person_Age',\n",
       "       'Delivery_person_Ratings', 'Restaurant_latitude',\n",
       "       'Restaurant_longitude', 'Delivery_location_latitude',\n",
       "       'Delivery_location_longitude', 'Order_Date', 'Time_Orderd',\n",
       "       'Time_Order_picked', 'Weatherconditions', 'Road_traffic_density',\n",
       "       'Vehicle_condition', 'Type_of_order', 'Type_of_vehicle',\n",
       "       'multiple_deliveries', 'Festival', 'City', 'Time_taken(min)'],\n",
       "      dtype='object')"
      ]
     },
     "execution_count": 4,
     "metadata": {},
     "output_type": "execute_result"
    }
   ],
   "source": [
    "data.columns"
   ]
  },
  {
   "cell_type": "markdown",
   "metadata": {},
   "source": [
    "1.1. let's make all lower case"
   ]
  },
  {
   "cell_type": "code",
   "execution_count": 5,
   "metadata": {},
   "outputs": [
    {
     "data": {
      "text/plain": [
       "Index(['id', 'delivery_person_id', 'delivery_person_age',\n",
       "       'delivery_person_ratings', 'restaurant_latitude',\n",
       "       'restaurant_longitude', 'delivery_location_latitude',\n",
       "       'delivery_location_longitude', 'order_date', 'time_orderd',\n",
       "       'time_order_picked', 'weatherconditions', 'road_traffic_density',\n",
       "       'vehicle_condition', 'type_of_order', 'type_of_vehicle',\n",
       "       'multiple_deliveries', 'festival', 'city', 'time_taken(min)'],\n",
       "      dtype='object')"
      ]
     },
     "execution_count": 5,
     "metadata": {},
     "output_type": "execute_result"
    }
   ],
   "source": [
    "data.columns = data.columns.str.lower()\n",
    "data.columns"
   ]
  },
  {
   "cell_type": "markdown",
   "metadata": {},
   "source": [
    "1.2. see the unique values"
   ]
  },
  {
   "cell_type": "code",
   "execution_count": 6,
   "metadata": {},
   "outputs": [
    {
     "name": "stdout",
     "output_type": "stream",
     "text": [
      "Unique values in id:\n",
      "['0x4607 ' '0xb379 ' '0x5d6d ' ... '0x4f8d ' '0x5eee ' '0x5fb2 ']\n",
      "\n",
      "\n",
      "Unique values in delivery_person_id:\n",
      "['INDORES13DEL02 ' 'BANGRES18DEL02 ' 'BANGRES19DEL01 ' ...\n",
      " 'KOCRES04DEL01 ' 'BHPRES06DEL03 ' 'GOARES03DEL03 ']\n",
      "\n",
      "\n",
      "Unique values in delivery_person_age:\n",
      "['37' '34' '23' '38' '32' '22' '33' '35' '36' '21' '24' '29' '25' '31'\n",
      " '27' '26' '20' 'NaN ' '28' '39' '30' '15' '50']\n",
      "\n",
      "\n",
      "Unique values in delivery_person_ratings:\n",
      "['4.9' '4.5' '4.4' '4.7' '4.6' '4.8' '4.2' '4.3' '4' '4.1' '5' '3.5'\n",
      " 'NaN ' '3.8' '3.9' '3.7' '2.6' '2.5' '3.6' '3.1' '2.7' '1' '3.2' '3.3'\n",
      " '6' '3.4' '2.8' '2.9' '3']\n",
      "\n",
      "\n",
      "Unique values in order_date:\n",
      "['19-03-2022' '25-03-2022' '05-04-2022' '26-03-2022' '11-03-2022'\n",
      " '04-03-2022' '14-03-2022' '20-03-2022' '12-02-2022' '13-02-2022'\n",
      " '14-02-2022' '02-04-2022' '01-03-2022' '16-03-2022' '15-02-2022'\n",
      " '10-03-2022' '27-03-2022' '12-03-2022' '01-04-2022' '05-03-2022'\n",
      " '11-02-2022' '08-03-2022' '03-04-2022' '30-03-2022' '28-03-2022'\n",
      " '18-03-2022' '06-04-2022' '04-04-2022' '24-03-2022' '09-03-2022'\n",
      " '02-03-2022' '13-03-2022' '29-03-2022' '31-03-2022' '17-03-2022'\n",
      " '07-03-2022' '15-03-2022' '16-02-2022' '03-03-2022' '18-02-2022'\n",
      " '23-03-2022' '17-02-2022' '06-03-2022' '21-03-2022']\n",
      "\n",
      "\n",
      "Unique values in time_orderd:\n",
      "['11:30:00' '19:45:00' '08:30:00' '18:00:00' '13:30:00' '21:20:00'\n",
      " '19:15:00' '17:25:00' '20:55:00' '21:55:00' '14:55:00' '17:30:00'\n",
      " '09:20:00' '19:50:00' '20:25:00' '20:30:00' '20:40:00' '21:15:00'\n",
      " '20:20:00' '22:30:00' '08:15:00' '19:30:00' '12:25:00' '18:35:00'\n",
      " '20:35:00' '23:20:00' '23:35:00' '22:35:00' '23:25:00' '13:35:00'\n",
      " '21:35:00' '18:55:00' '14:15:00' '11:00:00' '09:45:00' '08:40:00'\n",
      " '23:00:00' 'NaN ' '19:10:00' '10:55:00' '21:40:00' '19:00:00' '16:45:00'\n",
      " '15:10:00' '22:45:00' '22:10:00' '20:45:00' '22:50:00' '17:55:00'\n",
      " '09:25:00' '20:15:00' '22:25:00' '22:40:00' '23:50:00' '15:25:00'\n",
      " '10:20:00' '10:40:00' '15:55:00' '20:10:00' '12:10:00' '15:30:00'\n",
      " '10:35:00' '21:10:00' '20:50:00' '12:35:00' '21:00:00' '23:40:00'\n",
      " '18:15:00' '18:20:00' '11:45:00' '12:45:00' '23:30:00' '10:50:00'\n",
      " '21:25:00' '10:10:00' '17:50:00' '22:20:00' '12:40:00' '23:55:00'\n",
      " '10:25:00' '08:45:00' '23:45:00' '19:55:00' '22:15:00' '23:10:00'\n",
      " '09:15:00' '18:25:00' '18:45:00' '16:50:00' '00:00:00' '14:20:00'\n",
      " '10:15:00' '08:50:00' '09:00:00' '17:45:00' '16:35:00' '21:45:00'\n",
      " '19:40:00' '14:50:00' '18:10:00' '12:20:00' '12:50:00' '09:10:00'\n",
      " '12:30:00' '17:10:00' '17:20:00' '18:30:00' '13:10:00' '19:35:00'\n",
      " '09:50:00' '15:00:00' '20:00:00' '10:30:00' '09:40:00' '15:35:00'\n",
      " '16:55:00' '22:55:00' '16:00:00' '17:15:00' '21:30:00' '18:40:00'\n",
      " '11:10:00' '13:50:00' '10:00:00' '21:50:00' '11:50:00' '22:00:00'\n",
      " '08:25:00' '11:20:00' '11:55:00' '09:30:00' '08:20:00' '08:10:00'\n",
      " '11:40:00' '23:15:00' '19:20:00' '12:15:00' '11:35:00' '11:15:00'\n",
      " '17:35:00' '17:40:00' '14:40:00' '18:50:00' '11:25:00' '14:25:00'\n",
      " '12:00:00' '16:10:00' '19:25:00' '08:55:00' '13:40:00' '17:00:00'\n",
      " '09:35:00' '08:35:00' '16:15:00' '13:20:00' '15:50:00' '15:20:00'\n",
      " '16:20:00' '14:30:00' '15:45:00' '16:40:00' '13:00:00' '12:55:00'\n",
      " '10:45:00' '13:25:00' '09:55:00' '15:15:00' '13:15:00' '14:00:00'\n",
      " '15:40:00' '16:25:00' '14:10:00' '13:45:00' '13:55:00' '14:35:00'\n",
      " '16:30:00' '14:45:00']\n",
      "\n",
      "\n",
      "Unique values in time_order_picked:\n",
      "['11:45:00' '19:50:00' '08:45:00' '18:10:00' '13:45:00' '21:30:00'\n",
      " '19:30:00' '17:30:00' '21:05:00' '22:10:00' '15:05:00' '17:40:00'\n",
      " '09:30:00' '20:05:00' '20:35:00' '15:10:00' '20:40:00' '20:50:00'\n",
      " '20:25:00' '22:45:00' '08:30:00' '19:45:00' '12:30:00' '18:50:00'\n",
      " '23:30:00' '21:35:00' '23:45:00' '22:50:00' '22:40:00' '23:35:00'\n",
      " '13:40:00' '21:45:00' '19:10:00' '14:25:00' '11:10:00' '09:55:00'\n",
      " '08:55:00' '23:10:00' '18:35:00' '19:25:00' '11:00:00' '19:15:00'\n",
      " '16:55:00' '11:40:00' '15:15:00' '22:55:00' '22:25:00' '20:55:00'\n",
      " '23:05:00' '18:00:00' '23:00:00' '09:40:00' '20:20:00' '22:35:00'\n",
      " '22:00:00' '23:55:00' '15:40:00' '10:30:00' '21:00:00' '10:50:00'\n",
      " '16:05:00' '20:15:00' '12:15:00' '15:45:00' '22:15:00' '10:45:00'\n",
      " '15:30:00' '00:05:00' '21:25:00' '12:45:00' '21:15:00' '18:20:00'\n",
      " '18:25:00' '11:50:00' '12:50:00' '10:55:00' '21:40:00' '10:20:00'\n",
      " '17:55:00' '23:50:00' '12:55:00' '00:10:00' '10:40:00' '09:00:00'\n",
      " '20:45:00' '20:00:00' '23:15:00' '22:20:00' '17:00:00' '00:15:00'\n",
      " '21:20:00' '14:35:00' '10:25:00' '09:05:00' '16:50:00' '08:40:00'\n",
      " '23:40:00' '21:50:00' '19:55:00' '15:00:00' '10:35:00' '09:25:00'\n",
      " '17:20:00' '17:25:00' '20:10:00' '00:00:00' '17:35:00' '19:00:00'\n",
      " '19:05:00' '13:20:00' '17:50:00' '18:05:00' '19:20:00' '10:05:00'\n",
      " '09:10:00' '21:55:00' '19:40:00' '09:50:00' '15:50:00' '18:30:00'\n",
      " '18:15:00' '16:15:00' '11:15:00' '21:10:00' '22:30:00' '15:20:00'\n",
      " '18:40:00' '23:20:00' '11:25:00' '13:55:00' '18:45:00' '22:05:00'\n",
      " '11:55:00' '18:55:00' '09:45:00' '17:15:00' '12:05:00' '12:00:00'\n",
      " '19:35:00' '08:25:00' '11:05:00' '15:35:00' '12:40:00' '12:25:00'\n",
      " '08:20:00' '23:25:00' '16:10:00' '08:15:00' '20:30:00' '13:00:00'\n",
      " '11:20:00' '08:50:00' '14:45:00' '17:45:00' '10:00:00' '08:35:00'\n",
      " '12:10:00' '11:35:00' '14:30:00' '10:15:00' '17:05:00' '10:10:00'\n",
      " '09:35:00' '11:30:00' '16:25:00' '09:15:00' '13:35:00' '15:55:00'\n",
      " '13:10:00' '13:05:00' '16:20:00' '16:30:00' '16:45:00' '09:20:00'\n",
      " '13:25:00' '14:15:00' '14:05:00' '16:35:00' '16:40:00' '13:30:00'\n",
      " '14:40:00' '12:20:00' '13:50:00' '17:10:00' '15:25:00' '14:20:00'\n",
      " '12:35:00' '14:00:00' '14:10:00' '14:55:00' '13:15:00' '14:50:00'\n",
      " '16:00:00']\n",
      "\n",
      "\n",
      "Unique values in weatherconditions:\n",
      "['conditions Sunny' 'conditions Stormy' 'conditions Sandstorms'\n",
      " 'conditions Cloudy' 'conditions Fog' 'conditions Windy' 'conditions NaN']\n",
      "\n",
      "\n",
      "Unique values in road_traffic_density:\n",
      "['High ' 'Jam ' 'Low ' 'Medium ' 'NaN ']\n",
      "\n",
      "\n",
      "Unique values in type_of_order:\n",
      "['Snack ' 'Drinks ' 'Buffet ' 'Meal ']\n",
      "\n",
      "\n",
      "Unique values in type_of_vehicle:\n",
      "['motorcycle ' 'scooter ' 'electric_scooter ' 'bicycle ']\n",
      "\n",
      "\n",
      "Unique values in multiple_deliveries:\n",
      "['0' '1' '3' 'NaN ' '2']\n",
      "\n",
      "\n",
      "Unique values in festival:\n",
      "['No ' 'Yes ' 'NaN ']\n",
      "\n",
      "\n",
      "Unique values in city:\n",
      "['Urban ' 'Metropolitian ' 'Semi-Urban ' 'NaN ']\n",
      "\n",
      "\n",
      "Unique values in time_taken(min):\n",
      "['(min) 24' '(min) 33' '(min) 26' '(min) 21' '(min) 30' '(min) 40'\n",
      " '(min) 32' '(min) 34' '(min) 46' '(min) 23' '(min) 20' '(min) 41'\n",
      " '(min) 15' '(min) 36' '(min) 39' '(min) 18' '(min) 38' '(min) 47'\n",
      " '(min) 12' '(min) 22' '(min) 25' '(min) 35' '(min) 10' '(min) 19'\n",
      " '(min) 11' '(min) 28' '(min) 52' '(min) 16' '(min) 27' '(min) 49'\n",
      " '(min) 17' '(min) 14' '(min) 37' '(min) 44' '(min) 42' '(min) 31'\n",
      " '(min) 13' '(min) 29' '(min) 50' '(min) 43' '(min) 48' '(min) 54'\n",
      " '(min) 53' '(min) 45' '(min) 51']\n",
      "\n",
      "\n"
     ]
    }
   ],
   "source": [
    "categorical_columns = data.select_dtypes(include=['object', 'category']).columns\n",
    "\n",
    "# Kategorik sütunlardaki benzersiz değerleri döngü ile gösterin\n",
    "for column in categorical_columns:\n",
    "    print(f\"Unique values in {column}:\")\n",
    "    print(data[column].unique())\n",
    "    print(\"\\n\")"
   ]
  },
  {
   "cell_type": "markdown",
   "metadata": {},
   "source": [
    "## important finds about data\n",
    "\n",
    "- the missing values is defined as **'NaN '** this space beside 'NaN ' should be removed\n",
    "- End the end of values of **categorical features** there are space for examle **'Urban ', 'High ', 'motorcycle '** that should be remove\n",
    "- in the values of the column **Weatherconditions** there is additionaly the word **conditions** like **'conditions Windy'**"
   ]
  },
  {
   "cell_type": "markdown",
   "metadata": {},
   "source": [
    "## 2- Understanding data structure"
   ]
  },
  {
   "cell_type": "markdown",
   "metadata": {},
   "source": [
    "Understanding the data structure is an essential aspect of data science projects as it plays a crucial role, because data have been organized, stored and manipulated for eficiency. \n",
    "\n",
    "Using the data they way it was thought to be use helps to reduce complexity, improve data quality, and enable faster and more accurate analysis."
   ]
  },
  {
   "cell_type": "code",
   "execution_count": 7,
   "metadata": {},
   "outputs": [
    {
     "data": {
      "text/html": [
       "<div>\n",
       "<style scoped>\n",
       "    .dataframe tbody tr th:only-of-type {\n",
       "        vertical-align: middle;\n",
       "    }\n",
       "\n",
       "    .dataframe tbody tr th {\n",
       "        vertical-align: top;\n",
       "    }\n",
       "\n",
       "    .dataframe thead th {\n",
       "        text-align: right;\n",
       "    }\n",
       "</style>\n",
       "<table border=\"1\" class=\"dataframe\">\n",
       "  <thead>\n",
       "    <tr style=\"text-align: right;\">\n",
       "      <th></th>\n",
       "      <th>id</th>\n",
       "      <th>delivery_person_id</th>\n",
       "      <th>delivery_person_age</th>\n",
       "      <th>delivery_person_ratings</th>\n",
       "      <th>restaurant_latitude</th>\n",
       "      <th>restaurant_longitude</th>\n",
       "      <th>delivery_location_latitude</th>\n",
       "      <th>delivery_location_longitude</th>\n",
       "      <th>order_date</th>\n",
       "      <th>time_orderd</th>\n",
       "      <th>time_order_picked</th>\n",
       "      <th>weatherconditions</th>\n",
       "      <th>road_traffic_density</th>\n",
       "      <th>vehicle_condition</th>\n",
       "      <th>type_of_order</th>\n",
       "      <th>type_of_vehicle</th>\n",
       "      <th>multiple_deliveries</th>\n",
       "      <th>festival</th>\n",
       "      <th>city</th>\n",
       "      <th>time_taken(min)</th>\n",
       "    </tr>\n",
       "  </thead>\n",
       "  <tbody>\n",
       "    <tr>\n",
       "      <th>0</th>\n",
       "      <td>0x4607</td>\n",
       "      <td>INDORES13DEL02</td>\n",
       "      <td>37</td>\n",
       "      <td>4.9</td>\n",
       "      <td>22.745049</td>\n",
       "      <td>75.892471</td>\n",
       "      <td>22.765049</td>\n",
       "      <td>75.912471</td>\n",
       "      <td>19-03-2022</td>\n",
       "      <td>11:30:00</td>\n",
       "      <td>11:45:00</td>\n",
       "      <td>conditions Sunny</td>\n",
       "      <td>High</td>\n",
       "      <td>2</td>\n",
       "      <td>Snack</td>\n",
       "      <td>motorcycle</td>\n",
       "      <td>0</td>\n",
       "      <td>No</td>\n",
       "      <td>Urban</td>\n",
       "      <td>(min) 24</td>\n",
       "    </tr>\n",
       "    <tr>\n",
       "      <th>1</th>\n",
       "      <td>0xb379</td>\n",
       "      <td>BANGRES18DEL02</td>\n",
       "      <td>34</td>\n",
       "      <td>4.5</td>\n",
       "      <td>12.913041</td>\n",
       "      <td>77.683237</td>\n",
       "      <td>13.043041</td>\n",
       "      <td>77.813237</td>\n",
       "      <td>25-03-2022</td>\n",
       "      <td>19:45:00</td>\n",
       "      <td>19:50:00</td>\n",
       "      <td>conditions Stormy</td>\n",
       "      <td>Jam</td>\n",
       "      <td>2</td>\n",
       "      <td>Snack</td>\n",
       "      <td>scooter</td>\n",
       "      <td>1</td>\n",
       "      <td>No</td>\n",
       "      <td>Metropolitian</td>\n",
       "      <td>(min) 33</td>\n",
       "    </tr>\n",
       "    <tr>\n",
       "      <th>2</th>\n",
       "      <td>0x5d6d</td>\n",
       "      <td>BANGRES19DEL01</td>\n",
       "      <td>23</td>\n",
       "      <td>4.4</td>\n",
       "      <td>12.914264</td>\n",
       "      <td>77.678400</td>\n",
       "      <td>12.924264</td>\n",
       "      <td>77.688400</td>\n",
       "      <td>19-03-2022</td>\n",
       "      <td>08:30:00</td>\n",
       "      <td>08:45:00</td>\n",
       "      <td>conditions Sandstorms</td>\n",
       "      <td>Low</td>\n",
       "      <td>0</td>\n",
       "      <td>Drinks</td>\n",
       "      <td>motorcycle</td>\n",
       "      <td>1</td>\n",
       "      <td>No</td>\n",
       "      <td>Urban</td>\n",
       "      <td>(min) 26</td>\n",
       "    </tr>\n",
       "    <tr>\n",
       "      <th>3</th>\n",
       "      <td>0x7a6a</td>\n",
       "      <td>COIMBRES13DEL02</td>\n",
       "      <td>38</td>\n",
       "      <td>4.7</td>\n",
       "      <td>11.003669</td>\n",
       "      <td>76.976494</td>\n",
       "      <td>11.053669</td>\n",
       "      <td>77.026494</td>\n",
       "      <td>05-04-2022</td>\n",
       "      <td>18:00:00</td>\n",
       "      <td>18:10:00</td>\n",
       "      <td>conditions Sunny</td>\n",
       "      <td>Medium</td>\n",
       "      <td>0</td>\n",
       "      <td>Buffet</td>\n",
       "      <td>motorcycle</td>\n",
       "      <td>1</td>\n",
       "      <td>No</td>\n",
       "      <td>Metropolitian</td>\n",
       "      <td>(min) 21</td>\n",
       "    </tr>\n",
       "    <tr>\n",
       "      <th>4</th>\n",
       "      <td>0x70a2</td>\n",
       "      <td>CHENRES12DEL01</td>\n",
       "      <td>32</td>\n",
       "      <td>4.6</td>\n",
       "      <td>12.972793</td>\n",
       "      <td>80.249982</td>\n",
       "      <td>13.012793</td>\n",
       "      <td>80.289982</td>\n",
       "      <td>26-03-2022</td>\n",
       "      <td>13:30:00</td>\n",
       "      <td>13:45:00</td>\n",
       "      <td>conditions Cloudy</td>\n",
       "      <td>High</td>\n",
       "      <td>1</td>\n",
       "      <td>Snack</td>\n",
       "      <td>scooter</td>\n",
       "      <td>1</td>\n",
       "      <td>No</td>\n",
       "      <td>Metropolitian</td>\n",
       "      <td>(min) 30</td>\n",
       "    </tr>\n",
       "  </tbody>\n",
       "</table>\n",
       "</div>"
      ],
      "text/plain": [
       "        id delivery_person_id delivery_person_age delivery_person_ratings  \\\n",
       "0  0x4607     INDORES13DEL02                   37                     4.9   \n",
       "1  0xb379     BANGRES18DEL02                   34                     4.5   \n",
       "2  0x5d6d     BANGRES19DEL01                   23                     4.4   \n",
       "3  0x7a6a    COIMBRES13DEL02                   38                     4.7   \n",
       "4  0x70a2     CHENRES12DEL01                   32                     4.6   \n",
       "\n",
       "   restaurant_latitude  restaurant_longitude  delivery_location_latitude  \\\n",
       "0            22.745049             75.892471                   22.765049   \n",
       "1            12.913041             77.683237                   13.043041   \n",
       "2            12.914264             77.678400                   12.924264   \n",
       "3            11.003669             76.976494                   11.053669   \n",
       "4            12.972793             80.249982                   13.012793   \n",
       "\n",
       "   delivery_location_longitude  order_date time_orderd time_order_picked  \\\n",
       "0                    75.912471  19-03-2022    11:30:00          11:45:00   \n",
       "1                    77.813237  25-03-2022    19:45:00          19:50:00   \n",
       "2                    77.688400  19-03-2022    08:30:00          08:45:00   \n",
       "3                    77.026494  05-04-2022    18:00:00          18:10:00   \n",
       "4                    80.289982  26-03-2022    13:30:00          13:45:00   \n",
       "\n",
       "       weatherconditions road_traffic_density  vehicle_condition  \\\n",
       "0       conditions Sunny                High                   2   \n",
       "1      conditions Stormy                 Jam                   2   \n",
       "2  conditions Sandstorms                 Low                   0   \n",
       "3       conditions Sunny              Medium                   0   \n",
       "4      conditions Cloudy                High                   1   \n",
       "\n",
       "  type_of_order type_of_vehicle multiple_deliveries festival            city  \\\n",
       "0        Snack      motorcycle                    0      No           Urban    \n",
       "1        Snack         scooter                    1      No   Metropolitian    \n",
       "2       Drinks      motorcycle                    1      No           Urban    \n",
       "3       Buffet      motorcycle                    1      No   Metropolitian    \n",
       "4        Snack         scooter                    1      No   Metropolitian    \n",
       "\n",
       "  time_taken(min)  \n",
       "0        (min) 24  \n",
       "1        (min) 33  \n",
       "2        (min) 26  \n",
       "3        (min) 21  \n",
       "4        (min) 30  "
      ]
     },
     "execution_count": 7,
     "metadata": {},
     "output_type": "execute_result"
    }
   ],
   "source": [
    "data.head()"
   ]
  },
  {
   "cell_type": "markdown",
   "metadata": {},
   "source": [
    "- - Order_Date and Time_Orderd features can be group together"
   ]
  },
  {
   "cell_type": "markdown",
   "metadata": {},
   "source": [
    "## 3- Data Cleaning"
   ]
  },
  {
   "cell_type": "markdown",
   "metadata": {},
   "source": [
    "Fortunately the data is already very clean, but there are some columns that need a touch, so for this section my focus will be:\n",
    "\n",
    "- Map all the missing values.\n",
    "- Transform target (Time_taken(min)) into an int.\n",
    "- Combine time features, and transform it into pd.to_datetime then engineer new features out of it.\n",
    "- Change Dtypes\n",
    "- Remove \"condition\" from Weatherconditions\n",
    "- Remove spaces from str features"
   ]
  },
  {
   "cell_type": "markdown",
   "metadata": {},
   "source": [
    "3.1. Mapping all the missing value from **'NaN '** to **np.nan**"
   ]
  },
  {
   "cell_type": "code",
   "execution_count": 8,
   "metadata": {},
   "outputs": [],
   "source": [
    "for column in data.columns:\n",
    "    data[column] = data[column].apply(lambda value: np.nan if value == 'NaN ' else value)"
   ]
  },
  {
   "cell_type": "markdown",
   "metadata": {},
   "source": [
    "3.2. Tranform the target feature"
   ]
  },
  {
   "cell_type": "code",
   "execution_count": 9,
   "metadata": {},
   "outputs": [],
   "source": [
    "data['time_taken(min)'] = data['time_taken(min)'].apply(lambda value: float(value[-2:]))"
   ]
  },
  {
   "cell_type": "markdown",
   "metadata": {},
   "source": [
    "3.3. Combine the time variables\n",
    "- Order_Date, Time_Orderd & Time_Order_picked"
   ]
  },
  {
   "cell_type": "code",
   "execution_count": 10,
   "metadata": {},
   "outputs": [],
   "source": [
    "data['time_orderd'] = data['order_date'] + ' ' + data['time_orderd']\n",
    "data['time_order_picked'] = data['order_date'] + ' ' + data['time_order_picked']"
   ]
  },
  {
   "cell_type": "markdown",
   "metadata": {},
   "source": [
    "3.4. Convert to pd.to_datetime"
   ]
  },
  {
   "cell_type": "code",
   "execution_count": 11,
   "metadata": {},
   "outputs": [],
   "source": [
    "data['time_orderd'] = pd.to_datetime(data['time_orderd'], format = '%d-%m-%Y %H:%M:%S')\n",
    "data['time_order_picked'] = pd.to_datetime(data['time_order_picked'], format = '%d-%m-%Y %H:%M:%S')"
   ]
  },
  {
   "cell_type": "markdown",
   "metadata": {},
   "source": [
    "3.5. Feature Engineering new variables out of Time_Orderd & Time_Order_picked"
   ]
  },
  {
   "cell_type": "markdown",
   "metadata": {},
   "source": [
    "- Since direct conversion to minutes (`timedelta64[m]`) is not supported, we divide the timedelta by `np.timedelta64(1, 'm')` \n",
    "- to convert the result into minutes."
   ]
  },
  {
   "cell_type": "code",
   "execution_count": 12,
   "metadata": {},
   "outputs": [],
   "source": [
    "data['time_to_pick'] = (data['time_order_picked'] - data['time_orderd']) / np.timedelta64(1, 'm')"
   ]
  },
  {
   "cell_type": "code",
   "execution_count": 13,
   "metadata": {},
   "outputs": [],
   "source": [
    "monhts = {1:'January', 2:'February', 3:'March', 4:'April', 5:'May',\n",
    "          6:'June', 7:'July', 8:'August', 9:'September', 10:'October',\n",
    "          11:'November', 12:'December'}\n",
    "\n",
    "days = {0:'Monday', 1:'Tuesday', 2:'Wednesday', 3:'Thursday', 4:'Friday',\n",
    "        5:'Saturday', 6:'Sunday'}"
   ]
  },
  {
   "cell_type": "code",
   "execution_count": 14,
   "metadata": {},
   "outputs": [],
   "source": [
    "data['order_year'] = data['time_orderd'].apply(lambda value: value.year)\n",
    "data['order_month'] = data['time_orderd'].apply(lambda value: value.month).map(monhts)\n",
    "data['order_day'] = data['time_orderd'].apply(lambda value: value.dayofweek).map(days)"
   ]
  },
  {
   "cell_type": "markdown",
   "metadata": {},
   "source": [
    "3.6. Change Dtypes\n",
    "- float typeis compatible with NaN values"
   ]
  },
  {
   "cell_type": "code",
   "execution_count": 15,
   "metadata": {},
   "outputs": [],
   "source": [
    "data['delivery_person_age'] = data['delivery_person_age'].astype(float)\n",
    "data['delivery_person_ratings'] = data['delivery_person_ratings'].astype(float)\n",
    "data['multiple_deliveries'] = data['multiple_deliveries'].astype(float)\n",
    "data['vehicle_condition'] = data['vehicle_condition'].astype(float)"
   ]
  },
  {
   "cell_type": "markdown",
   "metadata": {},
   "source": [
    "3.7. Remove \"condition\" from Weatherconditions"
   ]
  },
  {
   "cell_type": "code",
   "execution_count": 16,
   "metadata": {},
   "outputs": [],
   "source": [
    "data['weatherconditions'] = data['weatherconditions'].apply(lambda value: value.split(' ')[-1])"
   ]
  },
  {
   "cell_type": "markdown",
   "metadata": {},
   "source": [
    "3.8. Remove extra spaces"
   ]
  },
  {
   "cell_type": "code",
   "execution_count": 17,
   "metadata": {},
   "outputs": [],
   "source": [
    "for feature in data.select_dtypes(include = 'O').columns:\n",
    "    data[feature] = data[feature].apply(lambda value: np.nan if pd.isnull(value) else value.replace(' ', ''))"
   ]
  },
  {
   "cell_type": "markdown",
   "metadata": {},
   "source": [
    "## Completing the data\n",
    "\n",
    "Filling in missing data is important because gaps in the data can mess up the results of analyses and machine learning models. If some data is missing, it can change key numbers, like the average or spread of the data, leading to inaccurate or biased conclusions. Some types of analysis need all the data to be present to work properly.\n",
    "\n",
    "For machine learning, missing data can cause problems, especially for models that need complete data, like decision trees and neural networks. It might also make models too focused on the existing data, making them less effective at handling new, unseen data.\n",
    "\n",
    "By filling in missing data with estimates based on the existing data, we can maintain the data's overall characteristics and improve the performance of machine learning models. However, it's important to choose the right method for filling in the gaps and to consider how this might affect the results."
   ]
  },
  {
   "cell_type": "markdown",
   "metadata": {},
   "source": [
    "## 4. Missing Values"
   ]
  },
  {
   "cell_type": "code",
   "execution_count": 18,
   "metadata": {},
   "outputs": [],
   "source": [
    "MissingValues = pd.DataFrame(data.isna().sum().sort_values(ascending = False)[:13])\n",
    "\n",
    "MissingValues.rename(columns = {0 : 'Missing'}, inplace = True, errors = 'raise')\n",
    "\n",
    "MissingValues['Missing %'] = round(MissingValues['Missing'] / data.shape[0] * 100, 2)"
   ]
  },
  {
   "cell_type": "code",
   "execution_count": 19,
   "metadata": {},
   "outputs": [
    {
     "data": {
      "text/html": [
       "<div>\n",
       "<style scoped>\n",
       "    .dataframe tbody tr th:only-of-type {\n",
       "        vertical-align: middle;\n",
       "    }\n",
       "\n",
       "    .dataframe tbody tr th {\n",
       "        vertical-align: top;\n",
       "    }\n",
       "\n",
       "    .dataframe thead th {\n",
       "        text-align: right;\n",
       "    }\n",
       "</style>\n",
       "<table border=\"1\" class=\"dataframe\">\n",
       "  <thead>\n",
       "    <tr style=\"text-align: right;\">\n",
       "      <th></th>\n",
       "      <th>Missing</th>\n",
       "      <th>Missing %</th>\n",
       "    </tr>\n",
       "  </thead>\n",
       "  <tbody>\n",
       "    <tr>\n",
       "      <th>delivery_person_ratings</th>\n",
       "      <td>1908</td>\n",
       "      <td>4.18</td>\n",
       "    </tr>\n",
       "    <tr>\n",
       "      <th>delivery_person_age</th>\n",
       "      <td>1854</td>\n",
       "      <td>4.07</td>\n",
       "    </tr>\n",
       "    <tr>\n",
       "      <th>order_day</th>\n",
       "      <td>1731</td>\n",
       "      <td>3.80</td>\n",
       "    </tr>\n",
       "    <tr>\n",
       "      <th>time_orderd</th>\n",
       "      <td>1731</td>\n",
       "      <td>3.80</td>\n",
       "    </tr>\n",
       "    <tr>\n",
       "      <th>order_month</th>\n",
       "      <td>1731</td>\n",
       "      <td>3.80</td>\n",
       "    </tr>\n",
       "    <tr>\n",
       "      <th>order_year</th>\n",
       "      <td>1731</td>\n",
       "      <td>3.80</td>\n",
       "    </tr>\n",
       "    <tr>\n",
       "      <th>time_to_pick</th>\n",
       "      <td>1731</td>\n",
       "      <td>3.80</td>\n",
       "    </tr>\n",
       "    <tr>\n",
       "      <th>city</th>\n",
       "      <td>1200</td>\n",
       "      <td>2.63</td>\n",
       "    </tr>\n",
       "    <tr>\n",
       "      <th>multiple_deliveries</th>\n",
       "      <td>993</td>\n",
       "      <td>2.18</td>\n",
       "    </tr>\n",
       "    <tr>\n",
       "      <th>road_traffic_density</th>\n",
       "      <td>601</td>\n",
       "      <td>1.32</td>\n",
       "    </tr>\n",
       "    <tr>\n",
       "      <th>festival</th>\n",
       "      <td>228</td>\n",
       "      <td>0.50</td>\n",
       "    </tr>\n",
       "    <tr>\n",
       "      <th>time_order_picked</th>\n",
       "      <td>0</td>\n",
       "      <td>0.00</td>\n",
       "    </tr>\n",
       "    <tr>\n",
       "      <th>weatherconditions</th>\n",
       "      <td>0</td>\n",
       "      <td>0.00</td>\n",
       "    </tr>\n",
       "  </tbody>\n",
       "</table>\n",
       "</div>"
      ],
      "text/plain": [
       "                         Missing  Missing %\n",
       "delivery_person_ratings     1908       4.18\n",
       "delivery_person_age         1854       4.07\n",
       "order_day                   1731       3.80\n",
       "time_orderd                 1731       3.80\n",
       "order_month                 1731       3.80\n",
       "order_year                  1731       3.80\n",
       "time_to_pick                1731       3.80\n",
       "city                        1200       2.63\n",
       "multiple_deliveries          993       2.18\n",
       "road_traffic_density         601       1.32\n",
       "festival                     228       0.50\n",
       "time_order_picked              0       0.00\n",
       "weatherconditions              0       0.00"
      ]
     },
     "execution_count": 19,
     "metadata": {},
     "output_type": "execute_result"
    }
   ],
   "source": [
    "MissingValues"
   ]
  },
  {
   "cell_type": "markdown",
   "metadata": {},
   "source": [
    " Time_Orderd had 1731 missing values and due to that the **time engineered features** (Order_Month, Order_day, Order_Year, Time_To_Pick) also have the same amount of missing values. There is also missing values due to the Delivery person personal info, City, multiple_deliveries, Road_traffic_density and Festival.\n",
    "\n",
    "Is necessary to ask, are these really missing values? Or there is something else hidding behind them?\n",
    "\n",
    "In statistics there is three main types of missing data:\n",
    "\n",
    "Missing Completely At Random (MCAR): In this case, the missing data points are randomly distributed across all observations and variables, and there is no systematic reason for the missingness. This means that the probability of a value being missing is the same for all observations, regardless of any other variables. MCAR is considered to be the least problematic type of missing data because it does not introduce any bias into the analysis.\n",
    "\n",
    "Missing At Random (MAR): This type of missing data occurs when the probability of a value being missing is related to some observed variables, but not to the missing value itself. In other words, the missingness is dependent on some other variable in the dataset. For example, if the probability of missing a survey question is higher for people of a certain age group, but the missingness is not related to the answer to that question, then the missing data is MAR.\n",
    "\n",
    "Missing Not At Random (MNAR): This type of missing data occurs when the probability of a value being missing is related to the missing value itself, or to some other unobserved variable. This means that the missingness is not random and cannot be explained by any of the observed variables in the dataset. MNAR is considered to be the most problematic type of missing data because it can introduce bias into the analysis. An example of MNAR is when participants with high levels of depression are less likely to complete a survey on mental health, leading to missing data that is systematically related to the variable being measured.\n",
    "\n",
    "Many imputation methods can introduce bias if the missing data is not missing completely at random (MCAR) or missing at random (MAR), meaning that the missingness is not related to the value of the missing data. In such cases, the imputation method can produce biased estimates of the missing data values.\n",
    "\n",
    "So in order to implement any imputation method, I need to be sure that the missing data is MCAR or MAR. There are a few ways to check if your missing data is not missing completely at random (MCAR) or missing at random (MAR):\n",
    "\n",
    "Visual inspection: You can plot the missing values to see if there is a pattern to their occurrence. For example, if missing values tend to occur more often in certain rows or columns, or in certain values of other variables, this may indicate that the missingness is not random.\n",
    "\n",
    "Statistical tests: You can perform statistical tests to check for patterns in the missing data. One common test is the Little's MCAR test, which tests whether the missingness is independent of the observed data. If the p-value of the test is less than 0.05, it indicates that the data is not MCAR.\n",
    "\n",
    "Let's check if our missing data its MCAR or MAR and fill the values in case data is MNAR"
   ]
  },
  {
   "cell_type": "markdown",
   "metadata": {},
   "source": [
    "4.1. Visual inspection:"
   ]
  },
  {
   "cell_type": "code",
   "execution_count": 20,
   "metadata": {},
   "outputs": [
    {
     "data": {
      "image/png": "[encoded data removed]",
      "text/plain": [
       "<Figure size 1000x600 with 1 Axes>"
      ]
     },
     "metadata": {},
     "output_type": "display_data"
    }
   ],
   "source": [
    "plt.figure(figsize = (10, 6))\n",
    "\n",
    "sns.heatmap(data.isna(), cmap = 'Blues_r', cbar = False);"
   ]
  },
  {
   "cell_type": "markdown",
   "metadata": {},
   "source": [
    "- Some rows have multiple missing values, lets check how many values and if they have something to do with the delivery time"
   ]
  },
  {
   "cell_type": "code",
   "execution_count": 33,
   "metadata": {},
   "outputs": [
    {
     "data": {
      "image/png": "[encoded data removed]",
      "text/plain": [
       "<Figure size 640x480 with 1 Axes>"
      ]
     },
     "metadata": {},
     "output_type": "display_data"
    }
   ],
   "source": [
    "# Calculate the total number of NaNs per row\n",
    "data['TotalNaN'] = data.isna().sum(axis=1)\n",
    "\n",
    "# Create the count plot\n",
    "ax = sns.countplot(data=data[data.TotalNaN != 0], x='TotalNaN', palette='viridis', edgecolor='k')\n",
    "\n",
    "# Add count labels above each bar\n",
    "for index, value in enumerate(data[data.TotalNaN != 0]['TotalNaN'].value_counts().sort_index()):\n",
    "    ax.text(index, value, str(value), ha='center', va='bottom')\n",
    "\n",
    "# Display the plot\n",
    "plt.show()"
   ]
  },
  {
   "cell_type": "code",
   "execution_count": 22,
   "metadata": {},
   "outputs": [
    {
     "data": {
      "text/plain": [
       "order_day                  1731\n",
       "order_month                1731\n",
       "order_year                 1731\n",
       "time_to_pick               1731\n",
       "time_orderd                1731\n",
       "delivery_person_age        1640\n",
       "delivery_person_ratings    1640\n",
       "road_traffic_density        601\n",
       "city                         56\n",
       "multiple_deliveries          50\n",
       "festival                      9\n",
       "type_of_order                 0\n",
       "dtype: int64"
      ]
     },
     "execution_count": 22,
     "metadata": {},
     "output_type": "execute_result"
    }
   ],
   "source": [
    "# Rows with more than 5 NaN values\n",
    "\n",
    "data[data['TotalNaN'] > 5].isna().sum().sort_values(ascending = False)[:12]"
   ]
  },
  {
   "cell_type": "markdown",
   "metadata": {},
   "source": [
    "- Those rows with more than 5 missing values are not worth imputing since 6 or more (up to 10) missing values are out of 16 predicting features is way too much, \n",
    "\n",
    "- so I am gonna remove those rows with more than 5 missing values and impute those with less than that."
   ]
  },
  {
   "cell_type": "code",
   "execution_count": 23,
   "metadata": {},
   "outputs": [
    {
     "data": {
      "text/plain": [
       "1731"
      ]
     },
     "execution_count": 23,
     "metadata": {},
     "output_type": "execute_result"
    }
   ],
   "source": [
    "# Number of Observations dropped\n",
    "\n",
    "data.shape[0] - data[data['TotalNaN'] < 5].shape[0]"
   ]
  },
  {
   "cell_type": "code",
   "execution_count": 24,
   "metadata": {},
   "outputs": [],
   "source": [
    "data = data[data['TotalNaN'] < 5]"
   ]
  },
  {
   "cell_type": "markdown",
   "metadata": {},
   "source": [
    "After dropping those variables, lets see how the missing values in the data looks like."
   ]
  },
  {
   "cell_type": "code",
   "execution_count": 25,
   "metadata": {},
   "outputs": [
    {
     "data": {
      "image/png": "[encoded data removed]",
      "text/plain": [
       "<Figure size 1000x600 with 1 Axes>"
      ]
     },
     "metadata": {},
     "output_type": "display_data"
    }
   ],
   "source": [
    "plt.figure(figsize = (10, 6))\n",
    "\n",
    "sns.heatmap(data.isna(), cmap = 'Blues_r', cbar = False);"
   ]
  },
  {
   "cell_type": "code",
   "execution_count": 26,
   "metadata": {},
   "outputs": [
    {
     "data": {
      "text/html": [
       "<div>\n",
       "<style scoped>\n",
       "    .dataframe tbody tr th:only-of-type {\n",
       "        vertical-align: middle;\n",
       "    }\n",
       "\n",
       "    .dataframe tbody tr th {\n",
       "        vertical-align: top;\n",
       "    }\n",
       "\n",
       "    .dataframe thead th {\n",
       "        text-align: right;\n",
       "    }\n",
       "</style>\n",
       "<table border=\"1\" class=\"dataframe\">\n",
       "  <thead>\n",
       "    <tr style=\"text-align: right;\">\n",
       "      <th></th>\n",
       "      <th>Missing</th>\n",
       "      <th>Missing %</th>\n",
       "    </tr>\n",
       "  </thead>\n",
       "  <tbody>\n",
       "    <tr>\n",
       "      <th>city</th>\n",
       "      <td>1144</td>\n",
       "      <td>2.61</td>\n",
       "    </tr>\n",
       "    <tr>\n",
       "      <th>multiple_deliveries</th>\n",
       "      <td>943</td>\n",
       "      <td>2.15</td>\n",
       "    </tr>\n",
       "    <tr>\n",
       "      <th>delivery_person_ratings</th>\n",
       "      <td>268</td>\n",
       "      <td>0.61</td>\n",
       "    </tr>\n",
       "    <tr>\n",
       "      <th>festival</th>\n",
       "      <td>219</td>\n",
       "      <td>0.50</td>\n",
       "    </tr>\n",
       "    <tr>\n",
       "      <th>delivery_person_age</th>\n",
       "      <td>214</td>\n",
       "      <td>0.49</td>\n",
       "    </tr>\n",
       "    <tr>\n",
       "      <th>id</th>\n",
       "      <td>0</td>\n",
       "      <td>0.00</td>\n",
       "    </tr>\n",
       "    <tr>\n",
       "      <th>type_of_order</th>\n",
       "      <td>0</td>\n",
       "      <td>0.00</td>\n",
       "    </tr>\n",
       "  </tbody>\n",
       "</table>\n",
       "</div>"
      ],
      "text/plain": [
       "                         Missing  Missing %\n",
       "city                        1144       2.61\n",
       "multiple_deliveries          943       2.15\n",
       "delivery_person_ratings      268       0.61\n",
       "festival                     219       0.50\n",
       "delivery_person_age          214       0.49\n",
       "id                             0       0.00\n",
       "type_of_order                  0       0.00"
      ]
     },
     "execution_count": 26,
     "metadata": {},
     "output_type": "execute_result"
    }
   ],
   "source": [
    "MissingValues = pd.DataFrame(data.isna().sum().sort_values(ascending = False)[:7])\n",
    "\n",
    "MissingValues.rename(columns = {0 : 'Missing'}, inplace = True, errors = 'raise')\n",
    "\n",
    "MissingValues['Missing %'] = round(MissingValues['Missing'] / data.shape[0] * 100, 2)\n",
    "\n",
    "MissingValues"
   ]
  },
  {
   "cell_type": "markdown",
   "metadata": {},
   "source": [
    "\n",
    "- Now we have less than 5% of missing values, lets see if I can fill those values using the Mode from the data if value count is unbalanced or any other method. \n",
    "\n",
    "- First of all I am gonna create a function to help me map the current Missing Values of each feature."
   ]
  },
  {
   "cell_type": "markdown",
   "metadata": {},
   "source": [
    "4.2. City column"
   ]
  },
  {
   "cell_type": "markdown",
   "metadata": {},
   "source": [
    "The City feature is that has  most missing value with around %2.61 of data set"
   ]
  },
  {
   "cell_type": "code",
   "execution_count": 32,
   "metadata": {},
   "outputs": [
    {
     "data": {
      "image/png": "[encoded data removed]",
      "text/plain": [
       "<Figure size 500x300 with 1 Axes>"
      ]
     },
     "metadata": {},
     "output_type": "display_data"
    }
   ],
   "source": [
    "# Plotting the bar chart\n",
    "ax = data.city.value_counts().plot(kind='barh', title='City value counts', color='orange', figsize=(5, 3))\n",
    "\n",
    "# Adding the values above the bars\n",
    "for index, value in enumerate(data.city.value_counts()):\n",
    "    ax.text(value, index, str(value))\n",
    "\n",
    "# Display the plot\n",
    "plt.show()"
   ]
  },
  {
   "cell_type": "markdown",
   "metadata": {},
   "source": [
    "City feature is unbalanced and the better option is to impute that with Mode, in this case 'Metropolitan'"
   ]
  },
  {
   "cell_type": "code",
   "execution_count": 38,
   "metadata": {},
   "outputs": [
    {
     "data": {
      "text/plain": [
       "0        0\n",
       "1        0\n",
       "2        0\n",
       "3        0\n",
       "4        0\n",
       "        ..\n",
       "45588    0\n",
       "45589    0\n",
       "45590    0\n",
       "45591    0\n",
       "45592    0\n",
       "Name: TotalNaN, Length: 43862, dtype: int64"
      ]
     },
     "execution_count": 38,
     "metadata": {},
     "output_type": "execute_result"
    }
   ],
   "source": [
    "data['TotalNaN'] = data.isna().sum(axis = 1)\n",
    "data['TotalNaN']"
   ]
  },
  {
   "cell_type": "code",
   "execution_count": 35,
   "metadata": {},
   "outputs": [
    {
     "data": {
      "text/plain": [
       "1144"
      ]
     },
     "execution_count": 35,
     "metadata": {},
     "output_type": "execute_result"
    }
   ],
   "source": [
    "data.city.isna().sum()\n",
    "# There are 1144 missing values in city feature"
   ]
  },
  {
   "cell_type": "code",
   "execution_count": 36,
   "metadata": {},
   "outputs": [],
   "source": [
    "data.loc[data['city'].isna(), 'city'] = 'Metropolitian'"
   ]
  },
  {
   "cell_type": "code",
   "execution_count": null,
   "metadata": {},
   "outputs": [],
   "source": []
  },
  {
   "cell_type": "code",
   "execution_count": null,
   "metadata": {},
   "outputs": [],
   "source": []
  }
 ],
 "metadata": {
  "kernelspec": {
   "display_name": "Python 3.8.0 ('venv')",
   "language": "python",
   "name": "python3"
  },
  "language_info": {
   "codemirror_mode": {
    "name": "ipython",
    "version": 3
   },
   "file_extension": ".py",
   "mimetype": "text/x-python",
   "name": "python",
   "nbconvert_exporter": "python",
   "pygments_lexer": "ipython3",
   "version": "3.8.19"
  },
  "orig_nbformat": 4,
  "vscode": {
   "interpreter": {
    "hash": "1707e2a11e748d0db8d27b6ed4dcf0f142b7ddd87c451bd8f4efb955e3e3d619"
   }
  }
 },
 "nbformat": 4,
 "nbformat_minor": 2
}
